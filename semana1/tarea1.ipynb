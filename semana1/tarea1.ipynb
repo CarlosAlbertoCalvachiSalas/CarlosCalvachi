{
  "nbformat": 4,
  "nbformat_minor": 0,
  "metadata": {
    "colab": {
      "name": "tarea1.ipynb",
      "provenance": [],
      "collapsed_sections": []
    },
    "kernelspec": {
      "name": "python3",
      "display_name": "Python 3"
    },
    "language_info": {
      "name": "python"
    }
  },
  "cells": [
    {
      "cell_type": "code",
      "execution_count": 1,
      "metadata": {
        "id": "UVXndCHMeR5h"
      },
      "outputs": [],
      "source": [
        "%matplotlib notebook\n",
        "import numpy as np\n",
        "import matplotlib.pyplot as plt\n",
        "import matplotlib as mpl\n",
        "import matplotlib.animation as anim\n",
        "from tqdm import tqdm "
      ]
    },
    {
      "cell_type": "markdown",
      "source": [
        "# Tarea1 \n",
        "\n",
        "En este cuaderno se desarrolla la tarea 1. \n",
        "\n",
        "## Punto 1 \n",
        "\n",
        " Se describen dos métodos \n",
        "\n",
        "A.  Se utiliza el método `CheckWallLimits` de la clase\n",
        "    con la modificación de la restitución. Usando \n",
        "    este método la pelota para.  \n",
        "B.  Se modifica el método `CheckWallLimits` de la clase. \n",
        "    Ahora, la pelota solo invierte su dirección de\n",
        "    velocidad en y, al impactar la pared, si esta tiene \n",
        "    una velocidad hacia abajo. En este caso, \n",
        "    la pelota no pare estrictamente pero se puede\n",
        "    ver cuanto es la altura final respecto a la inicial.\n"
      ],
      "metadata": {
        "id": "A8k_AuNRtY0u"
      }
    },
    {
      "cell_type": "code",
      "source": [
        "\n",
        "class Particle():\n",
        "    \n",
        "    # init\n",
        "    def __init__(self, r0,v0,a0,t,m,radius,Id):\n",
        "        \n",
        "        self.dt  = t[1] - t[0]\n",
        "        \n",
        "        self.r = r0\n",
        "        self.v = v0\n",
        "        self.a = a0\n",
        "        \n",
        "        self.rVector = np.zeros( (len(t),len(r0)) )\n",
        "        self.vVector = np.zeros( (len(t),len(v0)) )\n",
        "        self.aVector = np.zeros( (len(t),len(a0)) )\n",
        "        \n",
        "        self.m = m\n",
        "        self.radius = radius\n",
        "        self.Id = Id\n",
        "        \n",
        "    # Method\n",
        "    def Evolution(self,i):\n",
        "        \n",
        "        self.SetPosition(i,self.r)\n",
        "        self.SetVelocity(i,self.v)\n",
        "        self.SetAcceleration(i, self.a)\n",
        "        \n",
        "        # Euler method\n",
        "        self.r += self.dt * self.v\n",
        "        self.v += self.dt * self.a\n",
        "    \n",
        "    def CheckWallLimits(self,limits,dim=2, restitution = 1, method = 1):\n",
        "\n",
        "        if(method == 1): # CheckWallLimits de la clase\n",
        "            for i in range(dim):\n",
        "\n",
        "                if (self.r[i] + self.radius  > limits[i]): \n",
        "                    self.v[i] = - restitution*self.v[i]\n",
        "\n",
        "                if (self.r[i] - self.radius < - limits[i]):\n",
        "                    self.v[i] = - restitution*self.v[i]\n",
        "         \n",
        "        else: # CheckWallLimits alternativo\n",
        "            for i in range(dim):\n",
        "\n",
        "                if (self.r[i] + self.radius  > limits[i] and self.v[i] > 0): \n",
        "                    self.v[i] = - restitution*self.v[i]\n",
        "\n",
        "                if (self.r[i] - self.radius < - limits[i] and self.v[i] < 0):\n",
        "                    self.v[i] = - restitution*self.v[i]\n",
        "            \n",
        "    \n",
        "    # Setters\n",
        "    def SetPosition(self,i,r):\n",
        "        self.rVector[i] = r\n",
        "        \n",
        "    def SetVelocity(self,i,v):\n",
        "        self.vVector[i] = v\n",
        "\n",
        "    def SetAcceleration(self,i,a):\n",
        "        self.aVector[i] = a\n",
        "        \n",
        "    # Getters  \n",
        "    def GetPositionVector(self):\n",
        "        return self.rVector\n",
        "    \n",
        "    def GetRPositionVector(self):\n",
        "        return self.RrVector \n",
        "\n",
        "    def GetVelocityVector(self):\n",
        "        return self.vVector\n",
        "\n",
        "    def GetRVelocityVector(self):\n",
        "        return self.RvVector \n",
        "    \n",
        "    def GetKineticEnergy(self):\n",
        "        return (1/2)*self.m*np.sum(self.vVector ** 2, axis = 1 )\n",
        "\n",
        "    def GetPotentialEnergy(self):\n",
        "        return self.m*9.8*self.rVector[:, 1]\n",
        "\n",
        "    def GetMechanicalEnergy(self):\n",
        "        return self.GetPotentialEnergy() + self.GetKineticEnergy()\n",
        "\n",
        "    def GetR(self):\n",
        "        return self.radius\n",
        "    \n",
        "    def ReduceSize(self,factor):\n",
        "        \n",
        "        self.RrVector = np.array([self.rVector[0]]) # initial condition\n",
        "        self.RvVector = np.array([self.vVector[0]]) # initial condition\n",
        "        \n",
        "        for i in range(1,len(self.rVector)):\n",
        "            if i%factor == 0:\n",
        "                self.RrVector = np.vstack([self.RrVector,self.rVector[i]])\n",
        "                self.RvVector = np.vstack([self.RvVector,self.vVector[i]])\n",
        "                \n",
        "               # print(self.RrVector)\n",
        "\n",
        "def GetParticles(NParticles,Limit,Velo,Dim=2,dt=0.1):\n",
        "    \n",
        "    Particles_ = []\n",
        "    \n",
        "    for i in range(NParticles):\n",
        "        \n",
        "        x0 = np.random.uniform( -Limit+1.0, Limit-1.0, size=Dim )\n",
        "        v0 = np.random.uniform( -Velo, Velo, size=Dim)\n",
        "        a0 = np.zeros(Dim)\n",
        "        \n",
        "        p = Particle(x0,v0,a0,t,1.,1.0,i)\n",
        "        \n",
        "        Particles_.append(p)\n",
        "        \n",
        "    return Particles_\n",
        "\n",
        "def RunSimulation(t,NParticles = 100, Velo = 6, Dim = 2):\n",
        "    \n",
        "    Particles = GetParticles(NParticles,Limits[0],Velo = Velo, dt=dt, Dim = Dim)\n",
        "    \n",
        "    for it in tqdm(range(len(t))): # Evolucion temporal\n",
        "        for i in range(len(Particles)):\n",
        "            Particles[i].CheckWallLimits(Limits, dim = Dim)\n",
        "            Particles[i].Evolution(it)\n",
        "       \n",
        "    return Particles\n",
        "\n",
        "def RunDampedBallSimulation(t, r0, v0, a0, e, Limits, tmax = 30, method = 1):\n",
        "\n",
        "    p = Particle(r0, v0, a0, t, 1, 1, 0)\n",
        "\n",
        "    for tStep in tqdm(range(len(t))):\n",
        "        p.CheckWallLimits(Limits, restitution=e, method = method)\n",
        "        p.Evolution(tStep)\n",
        "\n",
        "    return p\n",
        "\n",
        "\n",
        "def ReduceTime(t,factor, Particles = []):\n",
        "    \n",
        "    for p in Particles:\n",
        "        p.ReduceSize(factor)\n",
        "        \n",
        "    Newt = []\n",
        "    \n",
        "    for i in range(len(t)):\n",
        "        if i%factor == 0:\n",
        "            Newt.append(t[i])\n",
        "            \n",
        "    return np.array(Newt)"
      ],
      "metadata": {
        "id": "bsWu8N88vQix"
      },
      "execution_count": 2,
      "outputs": []
    },
    {
      "cell_type": "markdown",
      "source": [
        "Ahora se corren los ejemplos "
      ],
      "metadata": {
        "id": "U1hxwSnsvTvl"
      }
    },
    {
      "cell_type": "code",
      "source": [
        "Limits = np.array([20.,20.])\n",
        "\n",
        "dt = 0.01\n",
        "tmax = 30\n",
        "t = np.arange(0,tmax+dt,dt)\n",
        "\n",
        "r0 = np.array([-15., 5.])\n",
        "v0 = np.array([1., 0.])\n",
        "a0  = np.array([0., -9.8])\n",
        "\n",
        "dampedParticle = RunDampedBallSimulation(t, r0, v0, a0, 0.9, Limits, 30, method = 1)\n",
        "\n",
        "r0 = np.array([-15., 5.])\n",
        "v0 = np.array([1., 0.])\n",
        "a0  = np.array([0., -9.8])\n",
        "\n",
        "dampedParticle2 = RunDampedBallSimulation(t, r0, v0, a0, 0.9, Limits, 30, method = 0)\n",
        "\n",
        "plt.plot(t, dampedParticle.GetMechanicalEnergy(), label = 'CheckWallLimits clase')\n",
        "plt.plot(t, dampedParticle2.GetMechanicalEnergy(), label = 'CheckWallLimits modificado')\n",
        "plt.ylabel('Energía mecánica J(s)')\n",
        "plt.xlabel('t(s)')\n",
        "plt.legend()\n",
        "plt.show()"
      ],
      "metadata": {
        "colab": {
          "base_uri": "https://localhost:8080/",
          "height": 313
        },
        "id": "XqAmEoEfvWXE",
        "outputId": "fd1f8718-2fe9-41b7-d494-0420b1f3cb76"
      },
      "execution_count": 3,
      "outputs": [
        {
          "output_type": "stream",
          "name": "stderr",
          "text": [
            "100%|██████████| 3001/3001 [00:00<00:00, 65023.10it/s]\n",
            "100%|██████████| 3001/3001 [00:00<00:00, 55073.27it/s]\n"
          ]
        },
        {
          "output_type": "display_data",
          "data": {
            "image/png": "[encoded data removed]",
            "text/plain": [
              "<Figure size 432x288 with 1 Axes>"
            ]
          },
          "metadata": {
            "needs_background": "light"
          }
        }
      ]
    },
    {
      "cell_type": "markdown",
      "source": [
        "Entonces, para cada caso, el tiempo de parada y el porcentaje de la altura inicial, respectivamente, es"
      ],
      "metadata": {
        "id": "nwbLKRfzwXFK"
      }
    },
    {
      "cell_type": "code",
      "source": [
        "print('Tiempo en dejar de rebotar (CheckWallLimits clase): ',  np.round(np.min(t[np.array(dampedParticle.GetMechanicalEnergy()) < -186]), 3), 's' )\n",
        "print('A 30s, la altura de la particula con (CheckWallLimits modificado)  es ', np.round((dampedParticle2.rVector[-1, 1]+20)/(dampedParticle2.rVector[0, 1] + 20) * 100), r' % de la incial' )"
      ],
      "metadata": {
        "colab": {
          "base_uri": "https://localhost:8080/"
        },
        "id": "osxLMBoEvhT9",
        "outputId": "5250c41f-abc6-4bb0-ff08-83e7b4d867fa"
      },
      "execution_count": 4,
      "outputs": [
        {
          "output_type": "stream",
          "name": "stdout",
          "text": [
            "Tiempo en dejar de rebotar (CheckWallLimits clase):  19.08 s\n",
            "A 30s, la altura de la particula con (CheckWallLimits modificado)  es  14.0  % de la incial\n"
          ]
        }
      ]
    },
    {
      "cell_type": "markdown",
      "source": [
        "Seguidamente, se corren las simulaciones. Para el caso de `CheckWallLimits` de la clase "
      ],
      "metadata": {
        "id": "sIl__qqsvrpg"
      }
    },
    {
      "cell_type": "code",
      "source": [
        "redt = ReduceTime(t, 10, Particles = [dampedParticle])\n",
        "\n",
        "fig = plt.figure(figsize=(5,5))\n",
        "ax = fig.add_subplot(1,1,1)\n",
        "\n",
        "def init():\n",
        "    ax.set_xlim(-Limits[0],Limits[0])\n",
        "    ax.set_ylim(-Limits[1],Limits[1])\n",
        "    ax.set_xlabel('x(m)')\n",
        "    ax.set_ylabel('y(m)')\n",
        "\n",
        "def Update(i, Particles = [], method = 'clase'):\n",
        "    \n",
        "    plot = ax.clear()\n",
        "    init()\n",
        "    ax.set_title(r'$t=%.2f \\ seconds$ CheckWallLimits ' %(redt[i]) + method, fontsize=15)\n",
        "    \n",
        "    for p in Particles:\n",
        "        x = p.GetRPositionVector()[i,0]\n",
        "        y = p.GetRPositionVector()[i,1]\n",
        "     \n",
        "        \n",
        "        vx = p.GetRVelocityVector()[i,0]\n",
        "        vy = p.GetRVelocityVector()[i,1]\n",
        "        \n",
        "        circle = plt.Circle( (x,y), p.GetR(), color='k', fill=False)\n",
        "        ax.add_patch(circle)\n",
        "        ax.arrow(x,y,vx,vy,color='r',head_width=0.5)\n",
        "        \n",
        "    return plot\n",
        "\n",
        "Animation = anim.FuncAnimation(fig, lambda i: Update(i, Particles = [dampedParticle]), frames=len(redt),init_func=init, interval = 10, repeat = False)\n"
      ],
      "metadata": {
        "colab": {
          "base_uri": "https://localhost:8080/",
          "height": 338
        },
        "id": "RpHsqKl0vu3o",
        "outputId": "af8b24c4-7d77-4aa8-99c2-84bd160892c1"
      },
      "execution_count": 5,
      "outputs": [
        {
          "output_type": "display_data",
          "data": {
            "image/png": "[encoded data removed]",
            "text/plain": [
              "<Figure size 360x360 with 1 Axes>"
            ]
          },
          "metadata": {
            "needs_background": "light"
          }
        }
      ]
    },
    {
      "cell_type": "markdown",
      "source": [
        "Luego, se corre el ejemplo con `CheckWallLimits` modificado"
      ],
      "metadata": {
        "id": "NkDyUKRLvy7K"
      }
    },
    {
      "cell_type": "code",
      "source": [
        "edt = ReduceTime(t, 10, Particles = [dampedParticle2])\n",
        "\n",
        "fig = plt.figure(figsize=(5,5))\n",
        "ax = fig.add_subplot(1,1,1)\n",
        "\n",
        "def init():\n",
        "    ax.set_xlim(-Limits[0],Limits[0])\n",
        "    ax.set_ylim(-Limits[1],Limits[1])\n",
        "    ax.set_xlabel('x(m)')\n",
        "    ax.set_ylabel('y(m)')\n",
        "\n",
        "def Update(i, Particles = [], method = 'modificado'):\n",
        "    \n",
        "    plot = ax.clear()\n",
        "    init()\n",
        "    ax.set_title(r'$t=%.2f \\ seconds$ CheckWallLimits ' %(redt[i]) + method, fontsize=15)\n",
        "    \n",
        "    for p in Particles:\n",
        "        x = p.GetRPositionVector()[i,0]\n",
        "        y = p.GetRPositionVector()[i,1]\n",
        "     \n",
        "        \n",
        "        vx = p.GetRVelocityVector()[i,0]\n",
        "        vy = p.GetRVelocityVector()[i,1]\n",
        "        \n",
        "        circle = plt.Circle( (x,y), p.GetR(), color='k', fill=False)\n",
        "        ax.add_patch(circle)\n",
        "        ax.arrow(x,y,vx,vy,color='r',head_width=0.5)\n",
        "        \n",
        "    return plot\n",
        "\n",
        "Animation = anim.FuncAnimation(fig, lambda i: Update(i, Particles = [dampedParticle2]), frames=len(redt),init_func=init, interval = 10, repeat = False)"
      ],
      "metadata": {
        "colab": {
          "base_uri": "https://localhost:8080/",
          "height": 338
        },
        "id": "W8pWK6TTv5JP",
        "outputId": "298e6f70-d4e7-4072-fee3-353086d33fe8"
      },
      "execution_count": 6,
      "outputs": [
        {
          "output_type": "display_data",
          "data": {
            "image/png": "[encoded data removed]",
            "text/plain": [
              "<Figure size 360x360 with 1 Axes>"
            ]
          },
          "metadata": {
            "needs_background": "light"
          }
        }
      ]
    },
    {
      "cell_type": "markdown",
      "source": [
        "## Punto 2 \n",
        "\n",
        "Se empieza con la inicialización de las variables de la simulación de N cuerpos"
      ],
      "metadata": {
        "id": "qsz9bHBvv8Hl"
      }
    },
    {
      "cell_type": "code",
      "source": [
        "Limits = np.array([10.,10.,10.])\n",
        "\n",
        "dt = 0.01\n",
        "tmax = 30\n",
        "t = np.arange(0,tmax+dt,dt)\n",
        "\n",
        "Particles = RunSimulation(t, Velo=10, Dim = 3)\n",
        "\n",
        "redt = ReduceTime(t, 10, Particles = Particles)\n",
        "\n",
        "fig = plt.figure(figsize=(5,5))\n",
        "ax = plt.axes(projection = '3d')\n"
      ],
      "metadata": {
        "colab": {
          "base_uri": "https://localhost:8080/",
          "height": 320
        },
        "id": "SDaEZFWawC13",
        "outputId": "0a20bfc5-ad0e-4c0c-da48-3189092598e4"
      },
      "execution_count": 7,
      "outputs": [
        {
          "output_type": "stream",
          "name": "stderr",
          "text": [
            "100%|██████████| 3001/3001 [00:04<00:00, 688.98it/s]\n"
          ]
        },
        {
          "output_type": "display_data",
          "data": {
            "image/png": "[encoded data removed]",
            "text/plain": [
              "<Figure size 360x360 with 1 Axes>"
            ]
          },
          "metadata": {
            "needs_background": "light"
          }
        }
      ]
    },
    {
      "cell_type": "markdown",
      "source": [
        "Posteriormente, se corre la animación en 3D"
      ],
      "metadata": {
        "id": "LeD7EyxjwGMN"
      }
    },
    {
      "cell_type": "code",
      "source": [
        "def init3D():\n",
        "    ax.set_xlim(-Limits[0],Limits[0])\n",
        "    ax.set_ylim(-Limits[1],Limits[1])\n",
        "    ax.set_zlim(-Limits[2],Limits[2])\n",
        "    ax.set_xlabel('x[m]')\n",
        "    ax.set_ylabel('y[m]')\n",
        "    ax.set_zlabel('z[m]')\n",
        "\n",
        "\n",
        "def Update3D(i, Particles = Particles):\n",
        "    plot = ax.clear()\n",
        "    init()\n",
        "    ax.set_title(r'$t=%.2f \\ seconds$' %(redt[i]), fontsize=15)\n",
        "    \n",
        "    for p in Particles:\n",
        "        x = p.GetRPositionVector()[i,0]\n",
        "        y = p.GetRPositionVector()[i,1]\n",
        "        z = p.GetRPositionVector()[i,2]\n",
        "        ax.scatter(x, y, z, color = 'black', s = 5)\n",
        "\n",
        "    return plot\n",
        "\n",
        "Animation = anim.FuncAnimation(fig, lambda i: Update3D(i, Particles = Particles), frames=len(redt),init_func=init3D, interval = 10, repeat = False)"
      ],
      "metadata": {
        "id": "dlu-Gg9lwJHV"
      },
      "execution_count": 8,
      "outputs": []
    }
  ]
}